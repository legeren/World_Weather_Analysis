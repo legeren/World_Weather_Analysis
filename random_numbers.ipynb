{
 "cells": [
  {
   "cell_type": "code",
   "execution_count": 1,
   "id": "db6a8423",
   "metadata": {},
   "outputs": [],
   "source": [
    "#Import the random module\n",
    "import random"
   ]
  },
  {
   "cell_type": "code",
   "execution_count": 2,
   "id": "6210567e",
   "metadata": {},
   "outputs": [
    {
     "data": {
      "text/plain": [
       "83"
      ]
     },
     "execution_count": 2,
     "metadata": {},
     "output_type": "execute_result"
    }
   ],
   "source": [
    "#Choose random integer between -90 and 90\n",
    "random.randint(-90,90)"
   ]
  },
  {
   "cell_type": "code",
   "execution_count": 3,
   "id": "245738cb",
   "metadata": {},
   "outputs": [
    {
     "data": {
      "text/plain": [
       "0.15696949349767642"
      ]
     },
     "execution_count": 3,
     "metadata": {},
     "output_type": "execute_result"
    }
   ],
   "source": [
    "#Choose random floating decimal number between 0 and 1.0\n",
    "random.random()"
   ]
  },
  {
   "cell_type": "code",
   "execution_count": 4,
   "id": "43bbb4fd",
   "metadata": {},
   "outputs": [],
   "source": [
    "#Generate random latitudes\n",
    "x=1\n",
    "latitudes=[]\n",
    "while x<11:\n",
    "    random_lat=random.randint(-90,89)+random.random()\n",
    "    latitudes.append(random_lat)\n",
    "    x +=1"
   ]
  },
  {
   "cell_type": "code",
   "execution_count": 5,
   "id": "7a8fa33c",
   "metadata": {},
   "outputs": [
    {
     "data": {
      "text/plain": [
       "[-65.06269211015731,\n",
       " -54.359306540979915,\n",
       " 21.080402272321248,\n",
       " -42.72204984294637,\n",
       " 38.78025101087832,\n",
       " 87.54896941482032,\n",
       " 44.72813222133128,\n",
       " -44.69490933481212,\n",
       " -86.26645567372653,\n",
       " 30.677052593975468]"
      ]
     },
     "execution_count": 5,
     "metadata": {},
     "output_type": "execute_result"
    }
   ],
   "source": [
    "#show latitudes\n",
    "latitudes"
   ]
  },
  {
   "cell_type": "code",
   "execution_count": 6,
   "id": "f96bb430",
   "metadata": {},
   "outputs": [
    {
     "data": {
      "text/plain": [
       "85"
      ]
     },
     "execution_count": 6,
     "metadata": {},
     "output_type": "execute_result"
    }
   ],
   "source": [
    "#Generate random number within a given range where the step is the difference between each number in the sequence\n",
    "random.randrange(-90,90,step=1)"
   ]
  },
  {
   "cell_type": "code",
   "execution_count": 9,
   "id": "49d7f9eb",
   "metadata": {},
   "outputs": [
    {
     "data": {
      "text/plain": [
       "-86"
      ]
     },
     "execution_count": 9,
     "metadata": {},
     "output_type": "execute_result"
    }
   ],
   "source": [
    "#Another randrange example\n",
    "random.randrange(-90,90,step=4)"
   ]
  },
  {
   "cell_type": "code",
   "execution_count": 10,
   "id": "6886fa14",
   "metadata": {},
   "outputs": [
    {
     "data": {
      "text/plain": [
       "-61.53721108466563"
      ]
     },
     "execution_count": 10,
     "metadata": {},
     "output_type": "execute_result"
    }
   ],
   "source": [
    "#Generate random floating point decimal number between the interval provided.  Will not generate a whole integer.\n",
    "random.uniform(-90,90)"
   ]
  },
  {
   "cell_type": "code",
   "execution_count": 11,
   "id": "78f4d57b",
   "metadata": {},
   "outputs": [],
   "source": [
    "# Import the NumPy module.\n",
    "import numpy as np"
   ]
  },
  {
   "cell_type": "code",
   "execution_count": 12,
   "id": "acf6fa94",
   "metadata": {},
   "outputs": [
    {
     "data": {
      "text/plain": [
       "-76.45877330106316"
      ]
     },
     "execution_count": 12,
     "metadata": {},
     "output_type": "execute_result"
    }
   ],
   "source": [
    "np.random.uniform(-90.000, 90.000)"
   ]
  },
  {
   "cell_type": "code",
   "execution_count": 13,
   "id": "f346878b",
   "metadata": {},
   "outputs": [
    {
     "data": {
      "text/plain": [
       "array([-15.29544783,  52.84656519, -22.72781155, -64.8573016 ,\n",
       "       -86.54412921,  -2.67740383, -70.68348326, -71.74999905,\n",
       "        -2.96610934,  58.29236139,  65.76795821,  84.4846238 ,\n",
       "        54.69763673,  -5.99801433, -59.33108644,  61.7796102 ,\n",
       "         5.14239702, -48.3078325 ,  37.99218702,  62.72001278,\n",
       "        40.8533216 , -50.12076185, -58.78368182,   3.43670973,\n",
       "       -85.22195703, -57.98081061,  17.1944791 , -32.36893243,\n",
       "        26.75228102, -47.78302224, -35.68238746, -16.11340804,\n",
       "       -60.77514232,   4.67113501, -79.30396963, -49.7437074 ,\n",
       "        25.20675317, -55.58601984, -20.02188765,   6.45932102,\n",
       "        26.53499595,   7.25178933,  -9.361913  ,  73.86982502,\n",
       "        68.73024909, -61.90418592, -47.41119958,  38.54285272,\n",
       "       -61.70079879, -46.58081935])"
      ]
     },
     "execution_count": 13,
     "metadata": {},
     "output_type": "execute_result"
    }
   ],
   "source": [
    "#Choose 50 random numbers between -90 and 90\n",
    "np.random.uniform(-90.000, 90.000, size=50)"
   ]
  },
  {
   "cell_type": "code",
   "execution_count": 14,
   "id": "e764c3d1",
   "metadata": {},
   "outputs": [],
   "source": [
    "# Import timeit.\n",
    "import timeit"
   ]
  },
  {
   "cell_type": "code",
   "execution_count": 15,
   "id": "d2473a18",
   "metadata": {},
   "outputs": [
    {
     "name": "stdout",
     "output_type": "stream",
     "text": [
      "12.9 µs ± 438 ns per loop (mean ± std. dev. of 7 runs, 100000 loops each)\n"
     ]
    }
   ],
   "source": [
    "#Add timeit command to see how long it takes to run looking for 1500 random numbers\n",
    "%timeit np.random.uniform(-90.000, 90.000, size=1500)"
   ]
  },
  {
   "cell_type": "code",
   "execution_count": 16,
   "id": "ad8b8e58",
   "metadata": {},
   "outputs": [
    {
     "name": "stdout",
     "output_type": "stream",
     "text": [
      "1.18 ms ± 57.2 µs per loop (mean ± std. dev. of 7 runs, 1000 loops each)\n"
     ]
    }
   ],
   "source": [
    "def latitudes(size):\n",
    "    latitudes = []\n",
    "    x = 0\n",
    "    while x < (size):\n",
    "        random_lat = random.randint(-90, 90) + random.random()\n",
    "        latitudes.append(random_lat)\n",
    "        x += 1\n",
    "    return latitudes\n",
    "# Call the function with 1500.\n",
    "%timeit latitudes(1500)"
   ]
  },
  {
   "cell_type": "code",
   "execution_count": null,
   "id": "e331ad62",
   "metadata": {},
   "outputs": [],
   "source": []
  }
 ],
 "metadata": {
  "kernelspec": {
   "display_name": "Python 3 (ipykernel)",
   "language": "python",
   "name": "python3"
  },
  "language_info": {
   "codemirror_mode": {
    "name": "ipython",
    "version": 3
   },
   "file_extension": ".py",
   "mimetype": "text/x-python",
   "name": "python",
   "nbconvert_exporter": "python",
   "pygments_lexer": "ipython3",
   "version": "3.9.7"
  }
 },
 "nbformat": 4,
 "nbformat_minor": 5
}
